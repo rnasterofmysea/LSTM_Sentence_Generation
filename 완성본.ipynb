{
  "nbformat": 4,
  "nbformat_minor": 0,
  "metadata": {
    "colab": {
      "provenance": []
    },
    "kernelspec": {
      "name": "python3",
      "display_name": "Python 3"
    },
    "language_info": {
      "name": "python"
    }
  },
  "cells": [
    {
      "cell_type": "code",
      "source": [
        "# from google.colab import drive\n",
        "# drive.mount('/content/drive')"
      ],
      "metadata": {
        "id": "2Dc1yPE3hluG"
      },
      "execution_count": 28,
      "outputs": []
    },
    {
      "cell_type": "markdown",
      "source": [
        "# 데이터 살펴보기"
      ],
      "metadata": {
        "id": "6iWIw3d9hofA"
      }
    },
    {
      "cell_type": "code",
      "execution_count": 29,
      "metadata": {
        "colab": {
          "base_uri": "https://localhost:8080/"
        },
        "id": "yUYHv3QyXBq5",
        "outputId": "33e16a2f-5a88-40ee-cd28-35fd6f2e190f"
      },
      "outputs": [
        {
          "output_type": "stream",
          "name": "stdout",
          "text": [
            "Index(['articleID', 'articleWordCount', 'byline', 'documentType', 'headline',\n",
            "       'keywords', 'multimedia', 'newDesk', 'printPage', 'pubDate',\n",
            "       'sectionName', 'snippet', 'source', 'typeOfMaterial', 'webURL'],\n",
            "      dtype='object')\n"
          ]
        }
      ],
      "source": [
        "import pandas as pd\n",
        "import os\n",
        "import string\n",
        "\n",
        "df = pd.read_csv(\"ArticlesApril2018.csv\")\n",
        "print(df.columns)"
      ]
    },
    {
      "cell_type": "markdown",
      "source": [
        "# 학습용 데이터셋 정의 - dataset_generation.py\n"
      ],
      "metadata": {
        "id": "E6Vd-BH4h2AK"
      }
    },
    {
      "cell_type": "code",
      "source": [
        "import numpy as np\n",
        "import glob\n",
        "\n",
        "from torch.utils.data.dataset import Dataset\n",
        "\n",
        "\n",
        "class TextGeneration(Dataset):\n",
        "    def clean_text(self, txt):\n",
        "        # 모든 단어를 소문자로 바꾸고 특수문자를 제거\n",
        "        txt = \"\".join(v for v in txt if v not in string.punctuation).lower()\n",
        "        return txt\n",
        "    def __init__(self):\n",
        "        all_headlines = []\n",
        "\n",
        "        # ❶ 모든 헤드라인의 텍스트를 불러옴\n",
        "        for filename in glob.glob(\"ArticlesApril2018.csv\"):\n",
        "            if 'Articles' in filename:\n",
        "                article_df = pd.read_csv(filename)\n",
        "\n",
        "                # 데이터셋의 headline의 값을 all_headlines에 추가\n",
        "                all_headlines.extend(list(article_df.headline.values))\n",
        "                break\n",
        "\n",
        "        # ❷ headline 중 unknown 값은 제거\n",
        "        all_headlines = [h for h in all_headlines if h != \"Unknown\"]\n",
        "\n",
        "        # ❸ 구두점 제거 및 전처리가 된 문장들을 리스트로 반환\n",
        "        self.corpus = [self.clean_text(x) for x in all_headlines]\n",
        "        self.BOW = {}\n",
        "\n",
        "        # ➍ 모든 문장의 단어를 추출해 고유번호 지정\n",
        "        for line in self.corpus:\n",
        "            for word in line.split():\n",
        "                if word not in self.BOW.keys():\n",
        "                    self.BOW[word] = len(self.BOW.keys())\n",
        "\n",
        "        # 모델의 입력으로 사용할 데이터\n",
        "        self.data = self.generate_sequence(self.corpus)\n",
        "    def generate_sequence(self, txt):\n",
        "        seq = []\n",
        "\n",
        "        for line in txt:\n",
        "            line = line.split()\n",
        "            line_bow = [self.BOW[word] for word in line]\n",
        "\n",
        "            # 단어 2개를 입력으로, 그다음 단어를 정답으로\n",
        "            data = [([line_bow[i], line_bow[i+1]], line_bow[i+2])\n",
        "            for i in range(len(line_bow)-2)]\n",
        "\n",
        "            seq.extend(data)\n",
        "\n",
        "        return seq\n",
        "    def __len__(self):\n",
        "        return len(self.data)\n",
        "    def __getitem__(self, i):\n",
        "        data = np.array(self.data[i][0])  # ❶ 입력 데이터\n",
        "        label = np.array(self.data[i][1]).astype(np.float32)  # ❷ 출력 데이터\n",
        "\n",
        "        return data, label"
      ],
      "metadata": {
        "id": "1QtO1ZfsXmJh"
      },
      "execution_count": 30,
      "outputs": []
    },
    {
      "cell_type": "markdown",
      "source": [
        "# LSTM모델 정의 - model.py"
      ],
      "metadata": {
        "id": "Mx0YMUARiK9E"
      }
    },
    {
      "cell_type": "code",
      "source": [
        "import torch\n",
        "import torch.nn as nn\n",
        "\n",
        "\n",
        "class LSTM(nn.Module):\n",
        "   def __init__(self, num_embeddings):\n",
        "       super(LSTM, self).__init__()\n",
        "\n",
        "       # ❶ 밀집표현을 위한 임베딩층\n",
        "       self.embed = nn.Embedding(\n",
        "           num_embeddings=num_embeddings, embedding_dim=16)\n",
        "\n",
        "       # LSTM을 5개층을 쌓음\n",
        "       self.lstm = nn.LSTM(\n",
        "           input_size=16,\n",
        "           hidden_size=64,\n",
        "           num_layers=5,\n",
        "           batch_first=True)\n",
        "\n",
        "       # 분류를 위한 MLP층\n",
        "       self.fc1 = nn.Linear(128, num_embeddings)\n",
        "       self.fc2 = nn.Linear(num_embeddings,num_embeddings)\n",
        "\n",
        "       # 활성화 함수\n",
        "       self.relu = nn.ReLU()\n",
        "\n",
        "   def forward(self, x):\n",
        "       x = self.embed(x)\n",
        "\n",
        "       # ❷ LSTM 모델의 예측값\n",
        "       x, _ = self.lstm(x)\n",
        "       x = torch.reshape(x, (x.shape[0], -1))\n",
        "       x = self.fc1(x)\n",
        "       x = self.relu(x)\n",
        "       x = self.fc2(x)\n",
        "\n",
        "       return x"
      ],
      "metadata": {
        "id": "iQ_NQkA7llFJ"
      },
      "execution_count": 31,
      "outputs": []
    },
    {
      "cell_type": "markdown",
      "source": [
        "#유틸리티 - utill.py"
      ],
      "metadata": {
        "id": "PQgczWTnJjCb"
      }
    },
    {
      "cell_type": "code",
      "source": [
        "\n",
        "def calculate_accuracy(preds, y):\n",
        "    _, predicted = torch.max(preds, 1)\n",
        "    correct = (predicted == y).float()\n",
        "    acc = correct.sum() / len(correct)\n",
        "    return acc"
      ],
      "metadata": {
        "id": "2H6CMAyTJiZv"
      },
      "execution_count": 32,
      "outputs": []
    },
    {
      "cell_type": "markdown",
      "source": [
        "# 모델 학습하기 _ train.py"
      ],
      "metadata": {
        "id": "zHbQlFoZiRN7"
      }
    },
    {
      "cell_type": "code",
      "source": [
        "import torch\n",
        "import tqdm\n",
        "from torch.utils.data import DataLoader, random_split\n",
        "from torch.optim import Adam\n",
        "from torch.nn import CrossEntropyLoss\n",
        "\n",
        "\n",
        "# 학습을 진행할 프로세서 정의\n",
        "device = \"cuda\" if torch.cuda.is_available() else \"cpu\"\n",
        "# 데이터셋 및 모델 설정\n",
        "dataset = TextGeneration()  # 가정된 데이터셋\n",
        "model = LSTM(num_embeddings=len(dataset.BOW)).to(device)  # LSTM 모델\n",
        "optim = Adam(model.parameters(), lr=0.001)  # 옵티마이저\n",
        "loss_function = CrossEntropyLoss()  # 손실 함수\n",
        "\n",
        "# 데이터셋 분할 비율 설정\n",
        "train_ratio = 0.7\n",
        "val_ratio = 0.15\n",
        "test_ratio = 0.15\n",
        "total_epoch =50\n",
        "\n",
        "# 데이터셋 분할\n",
        "total_size = len(dataset)\n",
        "train_size = int(train_ratio * total_size)\n",
        "val_size = int(val_ratio * total_size)\n",
        "test_size = total_size - train_size - val_size\n",
        "\n",
        "train_dataset, val_dataset, test_dataset = random_split(dataset, [train_size, val_size, test_size])\n",
        "\n",
        "# DataLoader 설정\n",
        "train_loader = DataLoader(train_dataset, batch_size=64, shuffle=True)\n",
        "val_loader = DataLoader(val_dataset, batch_size=64)\n",
        "test_loader = DataLoader(test_dataset, batch_size=64)\n",
        "\n",
        "#기록 리스트들\n",
        "train_losses = []\n",
        "train_accuracies = []\n",
        "valid_losses = []\n",
        "valid_accuracies = []\n",
        "\n",
        "\n",
        "# 학습 루프\n",
        "for epoch in range(total_epoch):\n",
        "    model.train()\n",
        "    train_loss = 0\n",
        "    train_acc = 0\n",
        "    iterator = tqdm.tqdm(train_loader)\n",
        "    for data, label in iterator:\n",
        "        # 기울기 초기화\n",
        "        optim.zero_grad()\n",
        "\n",
        "        # 데이터를 device에 로드\n",
        "        data = torch.tensor(data, dtype=torch.long).to(device)\n",
        "        label = torch.tensor(label, dtype=torch.long).to(device)\n",
        "\n",
        "        # 모델의 예측\n",
        "        pred = model(data)\n",
        "\n",
        "        # 손실 계산\n",
        "        loss = loss_function(pred, label)\n",
        "        acc = calculate_accuracy(pred, label)\n",
        "\n",
        "        # 역전파 및 최적화\n",
        "        loss.backward()\n",
        "        optim.step()\n",
        "        train_loss += loss.item()\n",
        "        train_acc += acc.item()\n",
        "\n",
        "        iterator.set_description(f\"epoch{epoch} loss:{loss.item()}\")\n",
        "\n",
        "    avg_train_loss = train_loss / len(train_loader)\n",
        "    avg_train_acc = train_acc / len(train_loader)\n",
        "\n",
        "    train_losses.append(avg_train_loss)\n",
        "    train_accuracies.append(avg_train_acc)\n",
        "    tqdm.tqdm.write(f'Epoch {epoch}: 평균 학습 손실 {avg_train_loss}')\n",
        "\n",
        "    # 검증 루프\n",
        "    model.eval()\n",
        "    val_loss = 0\n",
        "    valid_acc = 0\n",
        "    with torch.no_grad():\n",
        "        for data, label in val_loader:\n",
        "            data = torch.tensor(data, dtype=torch.long).to(device)\n",
        "            label = torch.tensor(label, dtype=torch.long).to(device)\n",
        "            pred = model(data)\n",
        "            loss = loss_function(pred, label)\n",
        "            acc = calculate_accuracy(pred, label)\n",
        "\n",
        "            val_loss += loss.item()\n",
        "            valid_acc += acc.item()\n",
        "\n",
        "\n",
        "    avg_val_loss = val_loss / len(val_loader)\n",
        "    avg_valid_acc = valid_acc / len(val_loader)\n",
        "\n",
        "    valid_losses.append(avg_val_loss)\n",
        "    valid_accuracies.append(avg_valid_acc)\n",
        "    tqdm.tqdm.write(f'Epoch {epoch}: 평균 검증 손실 {avg_val_loss}')\n",
        "\n",
        "\n",
        "\n",
        "# 모델 저장\n",
        "torch.save(model.state_dict(), \"lstm.pth\")"
      ],
      "metadata": {
        "id": "E9x_OCUjnGe5",
        "outputId": "a65c1b88-e399-480c-d947-a4ea381adfb2",
        "colab": {
          "base_uri": "https://localhost:8080/"
        }
      },
      "execution_count": 33,
      "outputs": [
        {
          "output_type": "stream",
          "name": "stderr",
          "text": [
            "\r  0%|          | 0/73 [00:00<?, ?it/s]<ipython-input-33-56b28dbb83de>:53: UserWarning: To copy construct from a tensor, it is recommended to use sourceTensor.clone().detach() or sourceTensor.clone().detach().requires_grad_(True), rather than torch.tensor(sourceTensor).\n",
            "  data = torch.tensor(data, dtype=torch.long).to(device)\n",
            "<ipython-input-33-56b28dbb83de>:54: UserWarning: To copy construct from a tensor, it is recommended to use sourceTensor.clone().detach() or sourceTensor.clone().detach().requires_grad_(True), rather than torch.tensor(sourceTensor).\n",
            "  label = torch.tensor(label, dtype=torch.long).to(device)\n",
            "epoch0 loss:8.007111549377441: 100%|██████████| 73/73 [00:29<00:00,  2.47it/s]\n",
            "<ipython-input-33-56b28dbb83de>:84: UserWarning: To copy construct from a tensor, it is recommended to use sourceTensor.clone().detach() or sourceTensor.clone().detach().requires_grad_(True), rather than torch.tensor(sourceTensor).\n",
            "  data = torch.tensor(data, dtype=torch.long).to(device)\n",
            "<ipython-input-33-56b28dbb83de>:85: UserWarning: To copy construct from a tensor, it is recommended to use sourceTensor.clone().detach() or sourceTensor.clone().detach().requires_grad_(True), rather than torch.tensor(sourceTensor).\n",
            "  label = torch.tensor(label, dtype=torch.long).to(device)\n"
          ]
        },
        {
          "output_type": "stream",
          "name": "stdout",
          "text": [
            "Epoch 0: 평균 학습 손실 7.679392559887612\n",
            "Epoch 0: 평균 검증 손실 7.526519954204559\n"
          ]
        },
        {
          "output_type": "stream",
          "name": "stderr",
          "text": [
            "epoch1 loss:8.212067604064941: 100%|██████████| 73/73 [00:29<00:00,  2.51it/s]\n"
          ]
        },
        {
          "output_type": "stream",
          "name": "stdout",
          "text": [
            "Epoch 1: 평균 학습 손실 7.021292320669514\n",
            "Epoch 1: 평균 검증 손실 7.735877215862274\n"
          ]
        },
        {
          "output_type": "stream",
          "name": "stderr",
          "text": [
            "epoch2 loss:6.828921794891357: 100%|██████████| 73/73 [00:28<00:00,  2.54it/s]\n"
          ]
        },
        {
          "output_type": "stream",
          "name": "stdout",
          "text": [
            "Epoch 2: 평균 학습 손실 6.943178542672771\n",
            "Epoch 2: 평균 검증 손실 7.939318090677261\n"
          ]
        },
        {
          "output_type": "stream",
          "name": "stderr",
          "text": [
            "epoch3 loss:7.716956615447998: 100%|██████████| 73/73 [00:28<00:00,  2.55it/s]\n"
          ]
        },
        {
          "output_type": "stream",
          "name": "stdout",
          "text": [
            "Epoch 3: 평균 학습 손실 6.937454615553764\n",
            "Epoch 3: 평균 검증 손실 8.047410756349564\n"
          ]
        },
        {
          "output_type": "stream",
          "name": "stderr",
          "text": [
            "epoch4 loss:7.571218967437744: 100%|██████████| 73/73 [00:27<00:00,  2.61it/s]\n"
          ]
        },
        {
          "output_type": "stream",
          "name": "stdout",
          "text": [
            "Epoch 4: 평균 학습 손실 6.905205014633806\n",
            "Epoch 4: 평균 검증 손실 8.156296908855438\n"
          ]
        },
        {
          "output_type": "stream",
          "name": "stderr",
          "text": [
            "epoch5 loss:7.2396697998046875: 100%|██████████| 73/73 [00:29<00:00,  2.51it/s]\n"
          ]
        },
        {
          "output_type": "stream",
          "name": "stdout",
          "text": [
            "Epoch 5: 평균 학습 손실 6.80873147755453\n",
            "Epoch 5: 평균 검증 손실 8.218607366085052\n"
          ]
        },
        {
          "output_type": "stream",
          "name": "stderr",
          "text": [
            "epoch6 loss:6.486174583435059: 100%|██████████| 73/73 [00:27<00:00,  2.67it/s]\n"
          ]
        },
        {
          "output_type": "stream",
          "name": "stdout",
          "text": [
            "Epoch 6: 평균 학습 손실 6.686388179047467\n",
            "Epoch 6: 평균 검증 손실 8.389684826135635\n"
          ]
        },
        {
          "output_type": "stream",
          "name": "stderr",
          "text": [
            "epoch7 loss:6.581173896789551: 100%|██████████| 73/73 [00:26<00:00,  2.73it/s]\n"
          ]
        },
        {
          "output_type": "stream",
          "name": "stdout",
          "text": [
            "Epoch 7: 평균 학습 손실 6.584841617166179\n",
            "Epoch 7: 평균 검증 손실 8.51101404428482\n"
          ]
        },
        {
          "output_type": "stream",
          "name": "stderr",
          "text": [
            "epoch8 loss:6.075316905975342: 100%|██████████| 73/73 [00:26<00:00,  2.80it/s]\n"
          ]
        },
        {
          "output_type": "stream",
          "name": "stdout",
          "text": [
            "Epoch 8: 평균 학습 손실 6.462648764048537\n",
            "Epoch 8: 평균 검증 손실 8.58332222700119\n"
          ]
        },
        {
          "output_type": "stream",
          "name": "stderr",
          "text": [
            "epoch9 loss:6.200962543487549: 100%|██████████| 73/73 [00:26<00:00,  2.74it/s]\n"
          ]
        },
        {
          "output_type": "stream",
          "name": "stdout",
          "text": [
            "Epoch 9: 평균 학습 손실 6.326362237538377\n",
            "Epoch 9: 평균 검증 손실 9.046244204044342\n"
          ]
        },
        {
          "output_type": "stream",
          "name": "stderr",
          "text": [
            "epoch10 loss:6.694845676422119: 100%|██████████| 73/73 [00:25<00:00,  2.88it/s]\n"
          ]
        },
        {
          "output_type": "stream",
          "name": "stdout",
          "text": [
            "Epoch 10: 평균 학습 손실 6.187026605214158\n",
            "Epoch 10: 평균 검증 손실 9.176235258579254\n"
          ]
        },
        {
          "output_type": "stream",
          "name": "stderr",
          "text": [
            "epoch11 loss:6.0924072265625: 100%|██████████| 73/73 [00:25<00:00,  2.90it/s]\n"
          ]
        },
        {
          "output_type": "stream",
          "name": "stdout",
          "text": [
            "Epoch 11: 평균 학습 손실 5.993283160745281\n",
            "Epoch 11: 평균 검증 손실 9.785521268844604\n"
          ]
        },
        {
          "output_type": "stream",
          "name": "stderr",
          "text": [
            "epoch12 loss:5.691797733306885: 100%|██████████| 73/73 [00:25<00:00,  2.81it/s]\n"
          ]
        },
        {
          "output_type": "stream",
          "name": "stdout",
          "text": [
            "Epoch 12: 평균 학습 손실 5.792093453341967\n",
            "Epoch 12: 평균 검증 손실 9.960992217063904\n"
          ]
        },
        {
          "output_type": "stream",
          "name": "stderr",
          "text": [
            "epoch13 loss:5.4174981117248535: 100%|██████████| 73/73 [00:26<00:00,  2.76it/s]\n"
          ]
        },
        {
          "output_type": "stream",
          "name": "stdout",
          "text": [
            "Epoch 13: 평균 학습 손실 5.590401153041892\n",
            "Epoch 13: 평균 검증 손실 10.471649587154388\n"
          ]
        },
        {
          "output_type": "stream",
          "name": "stderr",
          "text": [
            "epoch14 loss:5.6640448570251465: 100%|██████████| 73/73 [00:26<00:00,  2.74it/s]\n"
          ]
        },
        {
          "output_type": "stream",
          "name": "stdout",
          "text": [
            "Epoch 14: 평균 학습 손실 5.413388931587951\n",
            "Epoch 14: 평균 검증 손실 10.841277778148651\n"
          ]
        },
        {
          "output_type": "stream",
          "name": "stderr",
          "text": [
            "epoch15 loss:5.235831260681152: 100%|██████████| 73/73 [00:28<00:00,  2.60it/s]\n"
          ]
        },
        {
          "output_type": "stream",
          "name": "stdout",
          "text": [
            "Epoch 15: 평균 학습 손실 5.233543598488586\n",
            "Epoch 15: 평균 검증 손실 11.983852863311768\n"
          ]
        },
        {
          "output_type": "stream",
          "name": "stderr",
          "text": [
            "epoch16 loss:5.095496654510498: 100%|██████████| 73/73 [00:30<00:00,  2.39it/s]\n"
          ]
        },
        {
          "output_type": "stream",
          "name": "stdout",
          "text": [
            "Epoch 16: 평균 학습 손실 5.079918155931447\n",
            "Epoch 16: 평균 검증 손실 12.382310330867767\n"
          ]
        },
        {
          "output_type": "stream",
          "name": "stderr",
          "text": [
            "epoch17 loss:5.7593092918396: 100%|██████████| 73/73 [00:35<00:00,  2.06it/s]\n"
          ]
        },
        {
          "output_type": "stream",
          "name": "stdout",
          "text": [
            "Epoch 17: 평균 학습 손실 4.945711175056353\n",
            "Epoch 17: 평균 검증 손실 12.849711060523987\n"
          ]
        },
        {
          "output_type": "stream",
          "name": "stderr",
          "text": [
            "epoch18 loss:4.414474010467529: 100%|██████████| 73/73 [00:37<00:00,  1.94it/s]\n"
          ]
        },
        {
          "output_type": "stream",
          "name": "stdout",
          "text": [
            "Epoch 18: 평균 학습 손실 4.810454656000006\n",
            "Epoch 18: 평균 검증 손실 13.374089300632477\n"
          ]
        },
        {
          "output_type": "stream",
          "name": "stderr",
          "text": [
            "epoch19 loss:4.797811031341553: 100%|██████████| 73/73 [00:38<00:00,  1.91it/s]\n"
          ]
        },
        {
          "output_type": "stream",
          "name": "stdout",
          "text": [
            "Epoch 19: 평균 학습 손실 4.697080011237158\n",
            "Epoch 19: 평균 검증 손실 13.976348280906677\n"
          ]
        },
        {
          "output_type": "stream",
          "name": "stderr",
          "text": [
            "epoch20 loss:4.670982360839844: 100%|██████████| 73/73 [00:39<00:00,  1.86it/s]\n"
          ]
        },
        {
          "output_type": "stream",
          "name": "stdout",
          "text": [
            "Epoch 20: 평균 학습 손실 4.5857634675012875\n",
            "Epoch 20: 평균 검증 손실 14.310835301876068\n"
          ]
        },
        {
          "output_type": "stream",
          "name": "stderr",
          "text": [
            "epoch21 loss:4.362708568572998: 100%|██████████| 73/73 [00:39<00:00,  1.83it/s]\n"
          ]
        },
        {
          "output_type": "stream",
          "name": "stdout",
          "text": [
            "Epoch 21: 평균 학습 손실 4.478340998087844\n",
            "Epoch 21: 평균 검증 손실 14.988044440746307\n"
          ]
        },
        {
          "output_type": "stream",
          "name": "stderr",
          "text": [
            "epoch22 loss:4.624725341796875: 100%|██████████| 73/73 [00:39<00:00,  1.84it/s]\n"
          ]
        },
        {
          "output_type": "stream",
          "name": "stdout",
          "text": [
            "Epoch 22: 평균 학습 손실 4.370353548494104\n",
            "Epoch 22: 평균 검증 손실 15.496184349060059\n"
          ]
        },
        {
          "output_type": "stream",
          "name": "stderr",
          "text": [
            "epoch23 loss:4.633797645568848: 100%|██████████| 73/73 [00:39<00:00,  1.83it/s]\n"
          ]
        },
        {
          "output_type": "stream",
          "name": "stdout",
          "text": [
            "Epoch 23: 평균 학습 손실 4.2793326639149285\n",
            "Epoch 23: 평균 검증 손실 16.050457298755646\n"
          ]
        },
        {
          "output_type": "stream",
          "name": "stderr",
          "text": [
            "epoch24 loss:4.21942138671875: 100%|██████████| 73/73 [00:40<00:00,  1.81it/s]\n"
          ]
        },
        {
          "output_type": "stream",
          "name": "stdout",
          "text": [
            "Epoch 24: 평균 학습 손실 4.182454207172133\n",
            "Epoch 24: 평균 검증 손실 16.560942769050598\n"
          ]
        },
        {
          "output_type": "stream",
          "name": "stderr",
          "text": [
            "epoch25 loss:3.9472413063049316: 100%|██████████| 73/73 [00:41<00:00,  1.78it/s]\n"
          ]
        },
        {
          "output_type": "stream",
          "name": "stdout",
          "text": [
            "Epoch 25: 평균 학습 손실 4.1002990970872855\n",
            "Epoch 25: 평균 검증 손실 17.011033177375793\n"
          ]
        },
        {
          "output_type": "stream",
          "name": "stderr",
          "text": [
            "epoch26 loss:3.5867371559143066: 100%|██████████| 73/73 [00:40<00:00,  1.80it/s]\n"
          ]
        },
        {
          "output_type": "stream",
          "name": "stdout",
          "text": [
            "Epoch 26: 평균 학습 손실 4.005101350888814\n",
            "Epoch 26: 평균 검증 손실 17.294744729995728\n"
          ]
        },
        {
          "output_type": "stream",
          "name": "stderr",
          "text": [
            "epoch27 loss:4.093900203704834: 100%|██████████| 73/73 [00:40<00:00,  1.80it/s]\n"
          ]
        },
        {
          "output_type": "stream",
          "name": "stdout",
          "text": [
            "Epoch 27: 평균 학습 손실 3.933463351367271\n",
            "Epoch 27: 평균 검증 손실 17.52046537399292\n"
          ]
        },
        {
          "output_type": "stream",
          "name": "stderr",
          "text": [
            "epoch28 loss:3.5739681720733643: 100%|██████████| 73/73 [00:40<00:00,  1.81it/s]\n"
          ]
        },
        {
          "output_type": "stream",
          "name": "stdout",
          "text": [
            "Epoch 28: 평균 학습 손실 3.8306985652610046\n",
            "Epoch 28: 평균 검증 손실 18.216950297355652\n"
          ]
        },
        {
          "output_type": "stream",
          "name": "stderr",
          "text": [
            "epoch29 loss:4.033488750457764: 100%|██████████| 73/73 [00:41<00:00,  1.77it/s]\n"
          ]
        },
        {
          "output_type": "stream",
          "name": "stdout",
          "text": [
            "Epoch 29: 평균 학습 손실 3.738199665121836\n",
            "Epoch 29: 평균 검증 손실 18.728392243385315\n"
          ]
        },
        {
          "output_type": "stream",
          "name": "stderr",
          "text": [
            "epoch30 loss:3.834390878677368: 100%|██████████| 73/73 [00:39<00:00,  1.84it/s]\n"
          ]
        },
        {
          "output_type": "stream",
          "name": "stdout",
          "text": [
            "Epoch 30: 평균 학습 손실 3.655166028297111\n",
            "Epoch 30: 평균 검증 손실 19.04712748527527\n"
          ]
        },
        {
          "output_type": "stream",
          "name": "stderr",
          "text": [
            "epoch31 loss:3.775888204574585: 100%|██████████| 73/73 [00:39<00:00,  1.83it/s]\n"
          ]
        },
        {
          "output_type": "stream",
          "name": "stdout",
          "text": [
            "Epoch 31: 평균 학습 손실 3.5658526714533973\n",
            "Epoch 31: 평균 검증 손실 19.541373133659363\n"
          ]
        },
        {
          "output_type": "stream",
          "name": "stderr",
          "text": [
            "epoch32 loss:3.2475883960723877: 100%|██████████| 73/73 [00:40<00:00,  1.78it/s]\n"
          ]
        },
        {
          "output_type": "stream",
          "name": "stdout",
          "text": [
            "Epoch 32: 평균 학습 손실 3.4807424839228798\n",
            "Epoch 32: 평균 검증 손실 19.84440553188324\n"
          ]
        },
        {
          "output_type": "stream",
          "name": "stderr",
          "text": [
            "epoch33 loss:3.6960527896881104: 100%|██████████| 73/73 [00:41<00:00,  1.77it/s]\n"
          ]
        },
        {
          "output_type": "stream",
          "name": "stdout",
          "text": [
            "Epoch 33: 평균 학습 손실 3.4140155511359644\n",
            "Epoch 33: 평균 검증 손실 20.25243854522705\n"
          ]
        },
        {
          "output_type": "stream",
          "name": "stderr",
          "text": [
            "epoch34 loss:3.5899341106414795: 100%|██████████| 73/73 [00:41<00:00,  1.76it/s]\n"
          ]
        },
        {
          "output_type": "stream",
          "name": "stdout",
          "text": [
            "Epoch 34: 평균 학습 손실 3.345191237044661\n",
            "Epoch 34: 평균 검증 손실 20.476169228553772\n"
          ]
        },
        {
          "output_type": "stream",
          "name": "stderr",
          "text": [
            "epoch35 loss:3.492194890975952: 100%|██████████| 73/73 [00:41<00:00,  1.76it/s]\n"
          ]
        },
        {
          "output_type": "stream",
          "name": "stdout",
          "text": [
            "Epoch 35: 평균 학습 손실 3.277141567778914\n",
            "Epoch 35: 평균 검증 손실 20.97819197177887\n"
          ]
        },
        {
          "output_type": "stream",
          "name": "stderr",
          "text": [
            "epoch36 loss:3.1781153678894043: 100%|██████████| 73/73 [00:41<00:00,  1.74it/s]\n"
          ]
        },
        {
          "output_type": "stream",
          "name": "stdout",
          "text": [
            "Epoch 36: 평균 학습 손실 3.179389914421186\n",
            "Epoch 36: 평균 검증 손실 21.25198256969452\n"
          ]
        },
        {
          "output_type": "stream",
          "name": "stderr",
          "text": [
            "epoch37 loss:3.3521792888641357: 100%|██████████| 73/73 [00:42<00:00,  1.73it/s]\n"
          ]
        },
        {
          "output_type": "stream",
          "name": "stdout",
          "text": [
            "Epoch 37: 평균 학습 손실 3.104745812612037\n",
            "Epoch 37: 평균 검증 손실 21.53387212753296\n"
          ]
        },
        {
          "output_type": "stream",
          "name": "stderr",
          "text": [
            "epoch38 loss:3.310706377029419: 100%|██████████| 73/73 [00:42<00:00,  1.72it/s]\n"
          ]
        },
        {
          "output_type": "stream",
          "name": "stdout",
          "text": [
            "Epoch 38: 평균 학습 손실 3.025073531555803\n",
            "Epoch 38: 평균 검증 손실 22.07381021976471\n"
          ]
        },
        {
          "output_type": "stream",
          "name": "stderr",
          "text": [
            "epoch39 loss:2.919372797012329: 100%|██████████| 73/73 [00:42<00:00,  1.72it/s]\n"
          ]
        },
        {
          "output_type": "stream",
          "name": "stdout",
          "text": [
            "Epoch 39: 평균 학습 손실 2.943184640309582\n",
            "Epoch 39: 평균 검증 손실 22.329058051109314\n"
          ]
        },
        {
          "output_type": "stream",
          "name": "stderr",
          "text": [
            "epoch40 loss:3.0990853309631348: 100%|██████████| 73/73 [00:43<00:00,  1.68it/s]\n"
          ]
        },
        {
          "output_type": "stream",
          "name": "stdout",
          "text": [
            "Epoch 40: 평균 학습 손실 2.8990906134043652\n",
            "Epoch 40: 평균 검증 손실 22.72779941558838\n"
          ]
        },
        {
          "output_type": "stream",
          "name": "stderr",
          "text": [
            "epoch41 loss:3.061711072921753: 100%|██████████| 73/73 [00:42<00:00,  1.71it/s]\n"
          ]
        },
        {
          "output_type": "stream",
          "name": "stdout",
          "text": [
            "Epoch 41: 평균 학습 손실 2.837796740335961\n",
            "Epoch 41: 평균 검증 손실 22.93630599975586\n"
          ]
        },
        {
          "output_type": "stream",
          "name": "stderr",
          "text": [
            "epoch42 loss:2.8073790073394775: 100%|██████████| 73/73 [00:42<00:00,  1.71it/s]\n"
          ]
        },
        {
          "output_type": "stream",
          "name": "stdout",
          "text": [
            "Epoch 42: 평균 학습 손실 2.744315127803855\n",
            "Epoch 42: 평균 검증 손실 23.40358304977417\n"
          ]
        },
        {
          "output_type": "stream",
          "name": "stderr",
          "text": [
            "epoch43 loss:2.7536377906799316: 100%|██████████| 73/73 [00:42<00:00,  1.71it/s]\n"
          ]
        },
        {
          "output_type": "stream",
          "name": "stdout",
          "text": [
            "Epoch 43: 평균 학습 손실 2.6632976336021947\n",
            "Epoch 43: 평균 검증 손실 23.788819551467896\n"
          ]
        },
        {
          "output_type": "stream",
          "name": "stderr",
          "text": [
            "epoch44 loss:2.306556463241577: 100%|██████████| 73/73 [00:43<00:00,  1.69it/s]\n"
          ]
        },
        {
          "output_type": "stream",
          "name": "stdout",
          "text": [
            "Epoch 44: 평균 학습 손실 2.5714690783252454\n",
            "Epoch 44: 평균 검증 손실 24.2243230342865\n"
          ]
        },
        {
          "output_type": "stream",
          "name": "stderr",
          "text": [
            "epoch45 loss:2.699388027191162: 100%|██████████| 73/73 [00:43<00:00,  1.67it/s]\n"
          ]
        },
        {
          "output_type": "stream",
          "name": "stdout",
          "text": [
            "Epoch 45: 평균 학습 손실 2.5070049403464956\n",
            "Epoch 45: 평균 검증 손실 24.573120951652527\n"
          ]
        },
        {
          "output_type": "stream",
          "name": "stderr",
          "text": [
            "epoch46 loss:2.7549264430999756: 100%|██████████| 73/73 [00:44<00:00,  1.66it/s]\n"
          ]
        },
        {
          "output_type": "stream",
          "name": "stdout",
          "text": [
            "Epoch 46: 평균 학습 손실 2.4580229716758204\n",
            "Epoch 46: 평균 검증 손실 24.887773394584656\n"
          ]
        },
        {
          "output_type": "stream",
          "name": "stderr",
          "text": [
            "epoch47 loss:3.0923545360565186: 100%|██████████| 73/73 [00:44<00:00,  1.66it/s]\n"
          ]
        },
        {
          "output_type": "stream",
          "name": "stdout",
          "text": [
            "Epoch 47: 평균 학습 손실 2.4133453352810585\n",
            "Epoch 47: 평균 검증 손실 25.08818018436432\n"
          ]
        },
        {
          "output_type": "stream",
          "name": "stderr",
          "text": [
            "epoch48 loss:2.980839967727661: 100%|██████████| 73/73 [00:44<00:00,  1.62it/s]\n"
          ]
        },
        {
          "output_type": "stream",
          "name": "stdout",
          "text": [
            "Epoch 48: 평균 학습 손실 2.2908029784894968\n",
            "Epoch 48: 평균 검증 손실 25.556050062179565\n"
          ]
        },
        {
          "output_type": "stream",
          "name": "stderr",
          "text": [
            "epoch49 loss:2.100391149520874: 100%|██████████| 73/73 [00:44<00:00,  1.64it/s]\n"
          ]
        },
        {
          "output_type": "stream",
          "name": "stdout",
          "text": [
            "Epoch 49: 평균 학습 손실 2.242408620168085\n",
            "Epoch 49: 평균 검증 손실 25.84407901763916\n"
          ]
        }
      ]
    },
    {
      "cell_type": "code",
      "source": [
        "import pandas as pd\n",
        "import matplotlib.pyplot as plt\n",
        "\n",
        "# 데이터 준비\n",
        "data = {\n",
        "    \"Epoch\": range(1, total_epoch + 1),\n",
        "    \"Train Loss\": train_losses,\n",
        "    \"Validation Loss\": valid_losses,\n",
        "    \"Train Accuracy\": train_accuracies,\n",
        "    \"Validation Accuracy\": valid_accuracies\n",
        "}\n",
        "\n",
        "# DataFrame 생성\n",
        "df = pd.DataFrame(data)\n",
        "\n",
        "# DataFrame 출력\n",
        "print(df)\n",
        "\n",
        "# 시각화\n",
        "plt.figure(figsize=(12, 6))\n",
        "\n",
        "# 손실 그래프\n",
        "plt.subplot(1, 2, 1)\n",
        "plt.plot(df[\"Epoch\"], df[\"Train Loss\"], label=\"Train Loss\")\n",
        "plt.plot(df[\"Epoch\"], df[\"Validation Loss\"], label=\"Validation Loss\")\n",
        "plt.title(\"Loss Over Epochs\")\n",
        "plt.xlabel(\"Epoch\")\n",
        "plt.ylabel(\"Loss\")\n",
        "plt.legend()\n",
        "\n",
        "# 정확도 그래프\n",
        "plt.subplot(1, 2, 2)\n",
        "plt.plot(df[\"Epoch\"], df[\"Train Accuracy\"], label=\"Train Accuracy\")\n",
        "plt.plot(df[\"Epoch\"], df[\"Validation Accuracy\"], label=\"Validation Accuracy\")\n",
        "plt.title(\"Accuracy Over Epochs\")\n",
        "plt.xlabel(\"Epoch\")\n",
        "plt.ylabel(\"Accuracy\")\n",
        "plt.legend()\n",
        "\n",
        "plt.show()\n"
      ],
      "metadata": {
        "colab": {
          "base_uri": "https://localhost:8080/",
          "height": 1000
        },
        "id": "ujZ9ALfkD5Vp",
        "outputId": "f766e9b4-5f00-4a86-df4a-916dcd7eb2b0"
      },
      "execution_count": 34,
      "outputs": [
        {
          "output_type": "stream",
          "name": "stdout",
          "text": [
            "    Epoch  Train Loss  Validation Loss  Train Accuracy  Validation Accuracy\n",
            "0       1    7.679393         7.526520        0.029324             0.028451\n",
            "1       2    7.021292         7.735877        0.030180             0.028451\n",
            "2       3    6.943179         7.939318        0.032534             0.028451\n",
            "3       4    6.937455         8.047411        0.029966             0.028451\n",
            "4       5    6.905205         8.156297        0.030394             0.032357\n",
            "5       6    6.808731         8.218607        0.032534             0.033333\n",
            "6       7    6.686388         8.389685        0.034583             0.029557\n",
            "7       8    6.584842         8.511014        0.036387             0.031510\n",
            "8       9    6.462649         8.583322        0.039292             0.036263\n",
            "9      10    6.326362         9.046244        0.044429             0.039453\n",
            "10     11    6.187027         9.176235        0.046355             0.039453\n",
            "11     12    5.993283         9.785521        0.048373             0.042253\n",
            "12     13    5.792093         9.960992        0.049872             0.040430\n",
            "13     14    5.590401        10.471650        0.053419             0.048112\n",
            "14     15    5.413389        10.841278        0.054152             0.053255\n",
            "15     16    5.233544        11.983853        0.058005             0.050326\n",
            "16     17    5.079918        12.382310        0.059932             0.044336\n",
            "17     18    4.945711        12.849711        0.065405             0.047266\n",
            "18     19    4.810455        13.374089        0.065711             0.040299\n",
            "19     20    4.697080        13.976348        0.067545             0.041406\n",
            "20     21    4.585763        14.310835        0.072346             0.041146\n",
            "21     22    4.478341        14.988044        0.075923             0.042253\n",
            "22     23    4.370354        15.496184        0.076107             0.037370\n",
            "23     24    4.279333        16.050457        0.083721             0.037370\n",
            "24     25    4.182454        16.560943        0.084883             0.039193\n",
            "25     26    4.100299        17.011033        0.084669             0.036263\n",
            "26     27    4.005101        17.294745        0.092496             0.032357\n",
            "27     28    3.933463        17.520465        0.096227             0.038216\n",
            "28     29    3.830699        18.216950        0.106440             0.039193\n",
            "29     30    3.738200        18.728392        0.105002             0.033333\n",
            "30     31    3.655166        19.047127        0.107479             0.038346\n",
            "31     32    3.565853        19.541373        0.121484             0.035286\n",
            "32     33    3.480742        19.844406        0.132858             0.032357\n",
            "33     34    3.414016        20.252439        0.133256             0.036393\n",
            "34     35    3.345191        20.476169        0.141512             0.038216\n",
            "35     36    3.277142        20.978192        0.149431             0.037370\n",
            "36     37    3.179390        21.251983        0.157137             0.033464\n",
            "37     38    3.104746        21.533872        0.164078             0.045182\n",
            "38     39    3.025074        22.073810        0.183433             0.030534\n",
            "39     40    2.943185        22.329058        0.190741             0.040169\n",
            "40     41    2.899091        22.727799        0.194594             0.046159\n",
            "41     42    2.837797        22.936306        0.207742             0.039193\n",
            "42     43    2.744315        23.403583        0.228535             0.036393\n",
            "43     44    2.663298        23.788820        0.244985             0.041276\n",
            "44     45    2.571469        24.224323        0.259907             0.040299\n",
            "45     46    2.507005        24.573121        0.274003             0.040299\n",
            "46     47    2.458023        24.887773        0.287824             0.036263\n",
            "47     48    2.413345        25.088180        0.293359             0.035417\n",
            "48     49    2.290803        25.556050        0.322988             0.033333\n",
            "49     50    2.242409        25.844079        0.343414             0.039193\n"
          ]
        },
        {
          "output_type": "display_data",
          "data": {
            "text/plain": [
              "<Figure size 1200x600 with 2 Axes>"
            ],
            "image/png": "[encoded data removed]"
          },
          "metadata": {}
        }
      ]
    },
    {
      "cell_type": "markdown",
      "source": [
        "# 테스트 _ test.py"
      ],
      "metadata": {
        "id": "E1JOB1EDJPq8"
      }
    },
    {
      "cell_type": "code",
      "source": [
        "# 테스트 루프\n",
        "model.eval()\n",
        "test_loss = 0\n",
        "with torch.no_grad():\n",
        "    for data, label in test_loader:\n",
        "        data = torch.tensor(data, dtype=torch.long).to(device)\n",
        "        label = torch.tensor(label, dtype=torch.long).to(device)\n",
        "\n",
        "        pred = model(data)\n",
        "        loss = loss_function(pred, label)\n",
        "        test_loss += loss.item()\n",
        "\n",
        "avg_test_loss = test_loss / len(test_loader)\n",
        "print(f'테스트 손실: {avg_test_loss}')"
      ],
      "metadata": {
        "colab": {
          "base_uri": "https://localhost:8080/"
        },
        "id": "0pHCTIu2Djc1",
        "outputId": "da8a6172-e172-4e06-f944-de4bc979e28a"
      },
      "execution_count": 35,
      "outputs": [
        {
          "output_type": "stream",
          "name": "stderr",
          "text": [
            "<ipython-input-35-863023b97202>:6: UserWarning: To copy construct from a tensor, it is recommended to use sourceTensor.clone().detach() or sourceTensor.clone().detach().requires_grad_(True), rather than torch.tensor(sourceTensor).\n",
            "  data = torch.tensor(data, dtype=torch.long).to(device)\n",
            "<ipython-input-35-863023b97202>:7: UserWarning: To copy construct from a tensor, it is recommended to use sourceTensor.clone().detach() or sourceTensor.clone().detach().requires_grad_(True), rather than torch.tensor(sourceTensor).\n",
            "  label = torch.tensor(label, dtype=torch.long).to(device)\n"
          ]
        },
        {
          "output_type": "stream",
          "name": "stdout",
          "text": [
            "테스트 손실: 26.11001443862915\n"
          ]
        }
      ]
    },
    {
      "cell_type": "markdown",
      "source": [
        "#문장 생성하기 predict.py"
      ],
      "metadata": {
        "id": "Ke0vJJ7yJShI"
      }
    },
    {
      "cell_type": "code",
      "source": [
        "def generate(model, BOW, string=\"finding my \", strlen=2):\n",
        "   device = \"cuda\" if torch.cuda.is_available() else \"cpu\"\n",
        "\n",
        "   print(f\"input word: {string}\")\n",
        "\n",
        "   with torch.no_grad():\n",
        "       for p in range(strlen):\n",
        "           # 입력 문장을 텐서로 변경\n",
        "           words = torch.tensor(\n",
        "               [BOW[w] for w in string.split()], dtype=torch.long).to(device)\n",
        "\n",
        "           # ❶\n",
        "           input_tensor = torch.unsqueeze(words[-2:], dim=0)\n",
        "           output = model(input_tensor)  # 모델을 이용해 예측\n",
        "           output_word = (torch.argmax(output).cpu().numpy())\n",
        "           string += list(BOW.keys())[output_word]  # 문장에 예측된 단어를 추가\n",
        "           string += \" \"\n",
        "\n",
        "   print(f\"predicted sentence: {string}\")\n",
        "\n",
        "model.load_state_dict(torch.load(\"lstm.pth\", map_location=device))\n",
        "pred = generate(model, dataset.BOW)"
      ],
      "metadata": {
        "id": "n2aJFOvbn3Jm",
        "colab": {
          "base_uri": "https://localhost:8080/"
        },
        "outputId": "dc4a6f1c-9b9b-4120-97bc-8f5734fc554e"
      },
      "execution_count": 36,
      "outputs": [
        {
          "output_type": "stream",
          "name": "stdout",
          "text": [
            "input word: finding my \n",
            "predicted sentence: finding my expresident states \n"
          ]
        }
      ]
    },
    {
      "cell_type": "code",
      "source": [],
      "metadata": {
        "id": "28rPwg8SxImr"
      },
      "execution_count": 36,
      "outputs": []
    }
  ]
}